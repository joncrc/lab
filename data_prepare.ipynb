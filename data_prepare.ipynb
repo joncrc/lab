{
 "cells": [
  {
   "cell_type": "code",
   "execution_count": 44,
   "metadata": {
    "collapsed": true
   },
   "outputs": [],
   "source": [
    "import numpy as np\n",
    "from collections import Counter"
   ]
  },
  {
   "cell_type": "code",
   "execution_count": 54,
   "metadata": {
    "collapsed": true
   },
   "outputs": [],
   "source": [
    "hldr_np = np.array([[1,19], [1,13],[1,15],[3,33],[4,46],[3,32],[5,57],[5,52],[5,53],[5,54],[2,33],[2,32]])"
   ]
  },
  {
   "cell_type": "code",
   "execution_count": 55,
   "metadata": {
    "collapsed": false
   },
   "outputs": [
    {
     "name": "stdout",
     "output_type": "stream",
     "text": [
      "{1: [19, 13, 15], 3: [33, 32], 4: [46], 5: [57, 52, 53, 54], 2: [33, 32]}\n"
     ]
    }
   ],
   "source": [
    "dict = {}\n",
    "\n",
    "for r in hldr_np:\n",
    "    dict[r[0]] = []\n",
    "#print(dict)\n",
    "\n",
    "for r in hldr_np:\n",
    "    dict[r[0]].append(r[1])\n",
    "    \n",
    "print(dict)"
   ]
  },
  {
   "cell_type": "code",
   "execution_count": 89,
   "metadata": {
    "collapsed": false
   },
   "outputs": [
    {
     "name": "stdout",
     "output_type": "stream",
     "text": [
      "[13, 15, 19]\n",
      "[32, 33]\n",
      "[46]\n",
      "[52, 53, 54, 57]\n",
      "[32, 33]\n",
      "['13_15', '13_19', '15_19', '32_33', '52_53', '52_54', '52_57', '53_54', '53_57', '54_57', '32_33']\n"
     ]
    }
   ],
   "source": [
    "pair_ls = []\n",
    "\n",
    "for acno,custs in dict.items():\n",
    "    #print(custs)\n",
    "    custs.sort()\n",
    "    print(custs)\n",
    "    for i in range(len(custs)):\n",
    "        for j in range(i+1,len(custs)):\n",
    "            if i+1 < len(custs):\n",
    "                pair_ls.append(str(custs[i])+'_'+str(custs[j]))\n",
    "                             \n",
    "print(pair_ls)"
   ]
  },
  {
   "cell_type": "code",
   "execution_count": 107,
   "metadata": {
    "collapsed": false
   },
   "outputs": [
    {
     "data": {
      "text/plain": [
       "Counter({'13_15': 1,\n",
       "         '13_19': 1,\n",
       "         '15_19': 1,\n",
       "         '32_33': 2,\n",
       "         '52_53': 1,\n",
       "         '52_54': 1,\n",
       "         '52_57': 1,\n",
       "         '53_54': 1,\n",
       "         '53_57': 1,\n",
       "         '54_57': 1})"
      ]
     },
     "execution_count": 107,
     "metadata": {},
     "output_type": "execute_result"
    }
   ],
   "source": [
    "# List to dict with count\n",
    "cnt_dict=Counter(pair_ls)\n",
    "cnt_dict"
   ]
  },
  {
   "cell_type": "code",
   "execution_count": 108,
   "metadata": {
    "collapsed": false
   },
   "outputs": [
    {
     "name": "stdout",
     "output_type": "stream",
     "text": [
      "dict_keys(['13_15', '13_19', '15_19', '32_33', '52_53', '52_54', '52_57', '53_54', '53_57', '54_57'])\n",
      "dict_values([1, 1, 1, 2, 1, 1, 1, 1, 1, 1])\n"
     ]
    }
   ],
   "source": [
    "print(cnt_dict.keys())\n",
    "print(cnt_dict.values())"
   ]
  },
  {
   "cell_type": "code",
   "execution_count": 118,
   "metadata": {
    "collapsed": false
   },
   "outputs": [
    {
     "name": "stdout",
     "output_type": "stream",
     "text": [
      "[['13', '15', '1'], ['13', '19', '1'], ['15', '19', '1'], ['32', '33', '2'], ['52', '53', '1'], ['52', '54', '1'], ['52', '57', '1'], ['53', '54', '1'], ['53', '57', '1'], ['54', '57', '1']]\n"
     ]
    }
   ],
   "source": [
    "# final_np is a 2d np array with [cust1, cust2, count]\n",
    "final_ls=[]\n",
    "\n",
    "for key,values in cnt_dict.items():\n",
    "    kv = key+'_'+str(values)\n",
    "    final_ls.append(kv.split('_'))\n",
    "\n",
    "print(final_ls)    \n",
    "    \n",
    "#type(final_np)"
   ]
  },
  {
   "cell_type": "code",
   "execution_count": null,
   "metadata": {
    "collapsed": true
   },
   "outputs": [],
   "source": []
  }
 ],
 "metadata": {
  "kernelspec": {
   "display_name": "Python 3",
   "language": "python",
   "name": "python3"
  },
  "language_info": {
   "codemirror_mode": {
    "name": "ipython",
    "version": 3
   },
   "file_extension": ".py",
   "mimetype": "text/x-python",
   "name": "python",
   "nbconvert_exporter": "python",
   "pygments_lexer": "ipython3",
   "version": "3.6.0"
  }
 },
 "nbformat": 4,
 "nbformat_minor": 2
}
